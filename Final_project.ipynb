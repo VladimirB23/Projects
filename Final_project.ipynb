{
 "cells": [
  {
   "cell_type": "markdown",
   "metadata": {},
   "source": [
    "# Финальный проект \n",
    "\n",
    "## Задание 1. \n",
    "В этом задании необходимо проанализировать эксперимент, в котором целевой группе пользователей была предложена новая механика оплаты на сайте, а контрольной группе оставлена старая.\\\n",
    "Цель: Определить, стоит ли внедрять новую механику на всех пользователей, основываясь на результатах эксперимента.\n",
    "### Шаг 1: \n",
    "Загрузим данные и произведем предварительный анализ/обзор данных"
   ]
  },
  {
   "cell_type": "code",
   "execution_count": 1,
   "metadata": {},
   "outputs": [],
   "source": [
    "# импортируем библиотеки\n",
    "import pandas as pd\n",
    "from scipy.stats import bootstrap\n",
    "from scipy.stats import ttest_ind\n",
    "import numpy as np\n",
    "%matplotlib inline\n",
    "import matplotlib.pyplot as plt\n",
    "import seaborn as sns\n",
    "import plotly.express as px\n",
    "import os\n",
    "import requests\n",
    "from io import BytesIO"
   ]
  },
  {
   "cell_type": "code",
   "execution_count": 2,
   "metadata": {},
   "outputs": [],
   "source": [
    "# создадим функцию для загузки данных через API\n",
    "# функция загрузит CSV-файлы в DataFrame'ы без сохранения на диск\n",
    "# :param file_links: словарь {название_переменной: ссылка_на_яндекс_диск}\n",
    "# :return: словарь {название_переменной: DataFrame}\n",
    "def load_dataframes (file_links: dict) -> dict:\n",
    "    api_url = \"https://cloud-api.yandex.net/v1/disk/public/resources/download\"\n",
    "    dfs = {}\n",
    "\n",
    "    for name, url in file_links.items():\n",
    "        try:\n",
    "            # Получаем прямую ссылку на скачивание\n",
    "            response = requests.get(api_url, params={\"public_key\": url})\n",
    "            response.raise_for_status()\n",
    "            download_url = response.json()[\"href\"]\n",
    "\n",
    "            # Скачиваем и сразу читаем в DataFrame\n",
    "            file_response = requests.get(download_url)\n",
    "            file_response.raise_for_status()\n",
    "\n",
    "            df = pd.read_csv(BytesIO(file_response.content))\n",
    "            dfs[name] = df\n",
    "            print(f\"[✔] Загружено: {name}\")\n",
    "        except Exception as e:\n",
    "            print(f\"[✖] Ошибка загрузки {name}: {e}\")\n",
    "    \n",
    "    return dfs"
   ]
  },
  {
   "cell_type": "code",
   "execution_count": 3,
   "metadata": {},
   "outputs": [
    {
     "name": "stdout",
     "output_type": "stream",
     "text": [
      "[✔] Загружено: groups.csv\n",
      "[✔] Загружено: groups_add.csv\n",
      "[✔] Загружено: active_studs.csv\n",
      "[✔] Загружено: checks.csv\n"
     ]
    }
   ],
   "source": [
    "file_links = {\n",
    "    \"groups.csv\": \"https://disk.yandex.ru/d/UhyYx41rTt3clQ\",\n",
    "    \"groups_add.csv\": \"https://disk.yandex.ru/d/5Kxrz02m3IBUwQ\",\n",
    "    \"active_studs.csv\": \"https://disk.yandex.ru/d/Tbs44Bm6H_FwFQ\",\n",
    "    \"checks.csv\": \"https://disk.yandex.ru/d/pH1q-VqcxXjsVA\"\n",
    "}\n",
    "\n",
    "dfs = load_dataframes(file_links)\n",
    "\n",
    "# сраху сохраняем в разные переменные для дальнейшей работы \n",
    "groups = dfs['groups.csv']\n",
    "groups_add = dfs['groups_add.csv']\n",
    "active_studs = dfs['active_studs.csv']\n",
    "checks = dfs['checks.csv']"
   ]
  },
  {
   "cell_type": "code",
   "execution_count": 4,
   "metadata": {},
   "outputs": [
    {
     "name": "stdout",
     "output_type": "stream",
     "text": [
      "<class 'pandas.core.frame.DataFrame'>\n",
      "RangeIndex: 74484 entries, 0 to 74483\n",
      "Data columns (total 1 columns):\n",
      " #   Column  Non-Null Count  Dtype \n",
      "---  ------  --------------  ----- \n",
      " 0   id;grp  74484 non-null  object\n",
      "dtypes: object(1)\n",
      "memory usage: 582.0+ KB\n"
     ]
    },
    {
     "data": {
      "text/html": [
       "<div>\n",
       "<style scoped>\n",
       "    .dataframe tbody tr th:only-of-type {\n",
       "        vertical-align: middle;\n",
       "    }\n",
       "\n",
       "    .dataframe tbody tr th {\n",
       "        vertical-align: top;\n",
       "    }\n",
       "\n",
       "    .dataframe thead th {\n",
       "        text-align: right;\n",
       "    }\n",
       "</style>\n",
       "<table border=\"1\" class=\"dataframe\">\n",
       "  <thead>\n",
       "    <tr style=\"text-align: right;\">\n",
       "      <th></th>\n",
       "      <th>id;grp</th>\n",
       "    </tr>\n",
       "  </thead>\n",
       "  <tbody>\n",
       "    <tr>\n",
       "      <th>0</th>\n",
       "      <td>1489;B</td>\n",
       "    </tr>\n",
       "    <tr>\n",
       "      <th>1</th>\n",
       "      <td>1627;A</td>\n",
       "    </tr>\n",
       "    <tr>\n",
       "      <th>2</th>\n",
       "      <td>1768;B</td>\n",
       "    </tr>\n",
       "    <tr>\n",
       "      <th>3</th>\n",
       "      <td>1783;B</td>\n",
       "    </tr>\n",
       "    <tr>\n",
       "      <th>4</th>\n",
       "      <td>1794;A</td>\n",
       "    </tr>\n",
       "  </tbody>\n",
       "</table>\n",
       "</div>"
      ],
      "text/plain": [
       "   id;grp\n",
       "0  1489;B\n",
       "1  1627;A\n",
       "2  1768;B\n",
       "3  1783;B\n",
       "4  1794;A"
      ]
     },
     "execution_count": 4,
     "metadata": {},
     "output_type": "execute_result"
    }
   ],
   "source": [
    "# Проверим каждый дф на наличие пропусков, типы, пример значений и названия полей\n",
    "groups.info()\n",
    "groups.head()"
   ]
  },
  {
   "cell_type": "code",
   "execution_count": 5,
   "metadata": {},
   "outputs": [],
   "source": [
    "# Разделим единственный столбец 'id;grp' на два, после чего уберем его из дф\n",
    "groups[['id', 'grp']] = groups['id;grp'].str.split(';', expand=True)\n",
    "groups.drop(columns='id;grp', inplace=True)\n",
    "groups['id'] = groups['id'].astype(int) # здесь зададим тип "
   ]
  },
  {
   "cell_type": "code",
   "execution_count": 6,
   "metadata": {},
   "outputs": [
    {
     "name": "stdout",
     "output_type": "stream",
     "text": [
      "<class 'pandas.core.frame.DataFrame'>\n",
      "RangeIndex: 92 entries, 0 to 91\n",
      "Data columns (total 2 columns):\n",
      " #   Column  Non-Null Count  Dtype \n",
      "---  ------  --------------  ----- \n",
      " 0   id      92 non-null     int64 \n",
      " 1   grp     92 non-null     object\n",
      "dtypes: int64(1), object(1)\n",
      "memory usage: 1.6+ KB\n"
     ]
    },
    {
     "data": {
      "text/html": [
       "<div>\n",
       "<style scoped>\n",
       "    .dataframe tbody tr th:only-of-type {\n",
       "        vertical-align: middle;\n",
       "    }\n",
       "\n",
       "    .dataframe tbody tr th {\n",
       "        vertical-align: top;\n",
       "    }\n",
       "\n",
       "    .dataframe thead th {\n",
       "        text-align: right;\n",
       "    }\n",
       "</style>\n",
       "<table border=\"1\" class=\"dataframe\">\n",
       "  <thead>\n",
       "    <tr style=\"text-align: right;\">\n",
       "      <th></th>\n",
       "      <th>id</th>\n",
       "      <th>grp</th>\n",
       "    </tr>\n",
       "  </thead>\n",
       "  <tbody>\n",
       "    <tr>\n",
       "      <th>0</th>\n",
       "      <td>5694584</td>\n",
       "      <td>B</td>\n",
       "    </tr>\n",
       "    <tr>\n",
       "      <th>1</th>\n",
       "      <td>5694830</td>\n",
       "      <td>B</td>\n",
       "    </tr>\n",
       "    <tr>\n",
       "      <th>2</th>\n",
       "      <td>5695057</td>\n",
       "      <td>B</td>\n",
       "    </tr>\n",
       "    <tr>\n",
       "      <th>3</th>\n",
       "      <td>5698872</td>\n",
       "      <td>B</td>\n",
       "    </tr>\n",
       "    <tr>\n",
       "      <th>4</th>\n",
       "      <td>5699067</td>\n",
       "      <td>B</td>\n",
       "    </tr>\n",
       "  </tbody>\n",
       "</table>\n",
       "</div>"
      ],
      "text/plain": [
       "        id grp\n",
       "0  5694584   B\n",
       "1  5694830   B\n",
       "2  5695057   B\n",
       "3  5698872   B\n",
       "4  5699067   B"
      ]
     },
     "execution_count": 6,
     "metadata": {},
     "output_type": "execute_result"
    }
   ],
   "source": [
    "groups_add.info() \n",
    "groups_add.head()"
   ]
  },
  {
   "cell_type": "code",
   "execution_count": 7,
   "metadata": {},
   "outputs": [
    {
     "name": "stdout",
     "output_type": "stream",
     "text": [
      "<class 'pandas.core.frame.DataFrame'>\n",
      "RangeIndex: 8341 entries, 0 to 8340\n",
      "Data columns (total 1 columns):\n",
      " #   Column      Non-Null Count  Dtype\n",
      "---  ------      --------------  -----\n",
      " 0   student_id  8341 non-null   int64\n",
      "dtypes: int64(1)\n",
      "memory usage: 65.3 KB\n"
     ]
    },
    {
     "data": {
      "text/html": [
       "<div>\n",
       "<style scoped>\n",
       "    .dataframe tbody tr th:only-of-type {\n",
       "        vertical-align: middle;\n",
       "    }\n",
       "\n",
       "    .dataframe tbody tr th {\n",
       "        vertical-align: top;\n",
       "    }\n",
       "\n",
       "    .dataframe thead th {\n",
       "        text-align: right;\n",
       "    }\n",
       "</style>\n",
       "<table border=\"1\" class=\"dataframe\">\n",
       "  <thead>\n",
       "    <tr style=\"text-align: right;\">\n",
       "      <th></th>\n",
       "      <th>student_id</th>\n",
       "    </tr>\n",
       "  </thead>\n",
       "  <tbody>\n",
       "    <tr>\n",
       "      <th>0</th>\n",
       "      <td>581585</td>\n",
       "    </tr>\n",
       "    <tr>\n",
       "      <th>1</th>\n",
       "      <td>5723133</td>\n",
       "    </tr>\n",
       "    <tr>\n",
       "      <th>2</th>\n",
       "      <td>3276743</td>\n",
       "    </tr>\n",
       "    <tr>\n",
       "      <th>3</th>\n",
       "      <td>4238589</td>\n",
       "    </tr>\n",
       "    <tr>\n",
       "      <th>4</th>\n",
       "      <td>4475369</td>\n",
       "    </tr>\n",
       "  </tbody>\n",
       "</table>\n",
       "</div>"
      ],
      "text/plain": [
       "   student_id\n",
       "0      581585\n",
       "1     5723133\n",
       "2     3276743\n",
       "3     4238589\n",
       "4     4475369"
      ]
     },
     "execution_count": 7,
     "metadata": {},
     "output_type": "execute_result"
    }
   ],
   "source": [
    "active_studs.info()\n",
    "active_studs.head()"
   ]
  },
  {
   "cell_type": "code",
   "execution_count": 8,
   "metadata": {},
   "outputs": [
    {
     "name": "stdout",
     "output_type": "stream",
     "text": [
      "<class 'pandas.core.frame.DataFrame'>\n",
      "RangeIndex: 541 entries, 0 to 540\n",
      "Data columns (total 1 columns):\n",
      " #   Column            Non-Null Count  Dtype \n",
      "---  ------            --------------  ----- \n",
      " 0   student_id;\"rev\"  541 non-null    object\n",
      "dtypes: object(1)\n",
      "memory usage: 4.4+ KB\n"
     ]
    },
    {
     "data": {
      "text/html": [
       "<div>\n",
       "<style scoped>\n",
       "    .dataframe tbody tr th:only-of-type {\n",
       "        vertical-align: middle;\n",
       "    }\n",
       "\n",
       "    .dataframe tbody tr th {\n",
       "        vertical-align: top;\n",
       "    }\n",
       "\n",
       "    .dataframe thead th {\n",
       "        text-align: right;\n",
       "    }\n",
       "</style>\n",
       "<table border=\"1\" class=\"dataframe\">\n",
       "  <thead>\n",
       "    <tr style=\"text-align: right;\">\n",
       "      <th></th>\n",
       "      <th>student_id;\"rev\"</th>\n",
       "    </tr>\n",
       "  </thead>\n",
       "  <tbody>\n",
       "    <tr>\n",
       "      <th>0</th>\n",
       "      <td>1627;990.0</td>\n",
       "    </tr>\n",
       "    <tr>\n",
       "      <th>1</th>\n",
       "      <td>3185;690.0</td>\n",
       "    </tr>\n",
       "    <tr>\n",
       "      <th>2</th>\n",
       "      <td>25973;690.0</td>\n",
       "    </tr>\n",
       "    <tr>\n",
       "      <th>3</th>\n",
       "      <td>26280;690.0</td>\n",
       "    </tr>\n",
       "    <tr>\n",
       "      <th>4</th>\n",
       "      <td>100300;990.0</td>\n",
       "    </tr>\n",
       "  </tbody>\n",
       "</table>\n",
       "</div>"
      ],
      "text/plain": [
       "  student_id;\"rev\"\n",
       "0       1627;990.0\n",
       "1       3185;690.0\n",
       "2      25973;690.0\n",
       "3      26280;690.0\n",
       "4     100300;990.0"
      ]
     },
     "execution_count": 8,
     "metadata": {},
     "output_type": "execute_result"
    }
   ],
   "source": [
    "checks.info()\n",
    "checks.head()"
   ]
  },
  {
   "cell_type": "code",
   "execution_count": 9,
   "metadata": {},
   "outputs": [],
   "source": [
    "# аналогично разделим 'student_id;\"rev\"' на два столбца, приведем к нужным виду и типу\n",
    "checks[['student_id', 'rev']] = checks['student_id;\"rev\"'].str.split(';', expand = True)\n",
    "checks.drop(columns='student_id;\"rev\"', inplace = True)\n",
    "checks['student_id'] = checks['student_id'].astype(int)\n",
    "checks['rev'] = checks['rev'].astype(float)"
   ]
  },
  {
   "cell_type": "code",
   "execution_count": 10,
   "metadata": {},
   "outputs": [
    {
     "data": {
      "text/html": [
       "<div>\n",
       "<style scoped>\n",
       "    .dataframe tbody tr th:only-of-type {\n",
       "        vertical-align: middle;\n",
       "    }\n",
       "\n",
       "    .dataframe tbody tr th {\n",
       "        vertical-align: top;\n",
       "    }\n",
       "\n",
       "    .dataframe thead th {\n",
       "        text-align: right;\n",
       "    }\n",
       "</style>\n",
       "<table border=\"1\" class=\"dataframe\">\n",
       "  <thead>\n",
       "    <tr style=\"text-align: right;\">\n",
       "      <th></th>\n",
       "      <th>id</th>\n",
       "      <th>grp</th>\n",
       "    </tr>\n",
       "  </thead>\n",
       "  <tbody>\n",
       "    <tr>\n",
       "      <th>0</th>\n",
       "      <td>1489</td>\n",
       "      <td>B</td>\n",
       "    </tr>\n",
       "    <tr>\n",
       "      <th>1</th>\n",
       "      <td>1627</td>\n",
       "      <td>A</td>\n",
       "    </tr>\n",
       "    <tr>\n",
       "      <th>2</th>\n",
       "      <td>1768</td>\n",
       "      <td>B</td>\n",
       "    </tr>\n",
       "    <tr>\n",
       "      <th>3</th>\n",
       "      <td>1783</td>\n",
       "      <td>B</td>\n",
       "    </tr>\n",
       "    <tr>\n",
       "      <th>4</th>\n",
       "      <td>1794</td>\n",
       "      <td>A</td>\n",
       "    </tr>\n",
       "    <tr>\n",
       "      <th>...</th>\n",
       "      <td>...</td>\n",
       "      <td>...</td>\n",
       "    </tr>\n",
       "    <tr>\n",
       "      <th>74571</th>\n",
       "      <td>200247820</td>\n",
       "      <td>B</td>\n",
       "    </tr>\n",
       "    <tr>\n",
       "      <th>74572</th>\n",
       "      <td>201032527</td>\n",
       "      <td>B</td>\n",
       "    </tr>\n",
       "    <tr>\n",
       "      <th>74573</th>\n",
       "      <td>201067612</td>\n",
       "      <td>B</td>\n",
       "    </tr>\n",
       "    <tr>\n",
       "      <th>74574</th>\n",
       "      <td>201067653</td>\n",
       "      <td>B</td>\n",
       "    </tr>\n",
       "    <tr>\n",
       "      <th>74575</th>\n",
       "      <td>201067659</td>\n",
       "      <td>B</td>\n",
       "    </tr>\n",
       "  </tbody>\n",
       "</table>\n",
       "<p>74576 rows × 2 columns</p>\n",
       "</div>"
      ],
      "text/plain": [
       "              id grp\n",
       "0           1489   B\n",
       "1           1627   A\n",
       "2           1768   B\n",
       "3           1783   B\n",
       "4           1794   A\n",
       "...          ...  ..\n",
       "74571  200247820   B\n",
       "74572  201032527   B\n",
       "74573  201067612   B\n",
       "74574  201067653   B\n",
       "74575  201067659   B\n",
       "\n",
       "[74576 rows x 2 columns]"
      ]
     },
     "execution_count": 10,
     "metadata": {},
     "output_type": "execute_result"
    }
   ],
   "source": [
    "# объединим groups и groups_add в единый дф и избавимся от дубликатов\n",
    "groups_full = pd.concat([groups, groups_add], ignore_index = True).drop_duplicates()\n",
    "groups_full"
   ]
  },
  {
   "cell_type": "markdown",
   "metadata": {},
   "source": [
    "### Шаг 2: \n",
    "Сформируем выборку для проведения анализа"
   ]
  },
  {
   "cell_type": "code",
   "execution_count": 11,
   "metadata": {},
   "outputs": [
    {
     "name": "stdout",
     "output_type": "stream",
     "text": [
      "<class 'pandas.core.frame.DataFrame'>\n",
      "Int64Index: 8341 entries, 1 to 74562\n",
      "Data columns (total 2 columns):\n",
      " #   Column  Non-Null Count  Dtype \n",
      "---  ------  --------------  ----- \n",
      " 0   id      8341 non-null   int64 \n",
      " 1   grp     8341 non-null   object\n",
      "dtypes: int64(1), object(1)\n",
      "memory usage: 195.5+ KB\n"
     ]
    }
   ],
   "source": [
    "# отфильтруем дф и оставим только активных пользователей\n",
    "groups_active = groups_full[groups_full['id'].isin(active_studs['student_id'])]\n",
    "groups_active.info()"
   ]
  },
  {
   "cell_type": "code",
   "execution_count": 12,
   "metadata": {},
   "outputs": [],
   "source": [
    "# и добавим к активным пользователям инфу по оплатам\n",
    "df = groups_active.merge(checks, how='left', left_on='id', right_on='student_id')"
   ]
  },
  {
   "cell_type": "code",
   "execution_count": 13,
   "metadata": {},
   "outputs": [
    {
     "data": {
      "text/html": [
       "<div>\n",
       "<style scoped>\n",
       "    .dataframe tbody tr th:only-of-type {\n",
       "        vertical-align: middle;\n",
       "    }\n",
       "\n",
       "    .dataframe tbody tr th {\n",
       "        vertical-align: top;\n",
       "    }\n",
       "\n",
       "    .dataframe thead th {\n",
       "        text-align: right;\n",
       "    }\n",
       "</style>\n",
       "<table border=\"1\" class=\"dataframe\">\n",
       "  <thead>\n",
       "    <tr style=\"text-align: right;\">\n",
       "      <th></th>\n",
       "      <th>id</th>\n",
       "      <th>grp</th>\n",
       "      <th>student_id</th>\n",
       "      <th>rev</th>\n",
       "    </tr>\n",
       "  </thead>\n",
       "  <tbody>\n",
       "    <tr>\n",
       "      <th>0</th>\n",
       "      <td>1627</td>\n",
       "      <td>A</td>\n",
       "      <td>1627</td>\n",
       "      <td>990.0</td>\n",
       "    </tr>\n",
       "    <tr>\n",
       "      <th>1</th>\n",
       "      <td>2085</td>\n",
       "      <td>B</td>\n",
       "      <td>0</td>\n",
       "      <td>0.0</td>\n",
       "    </tr>\n",
       "    <tr>\n",
       "      <th>2</th>\n",
       "      <td>2215</td>\n",
       "      <td>B</td>\n",
       "      <td>0</td>\n",
       "      <td>0.0</td>\n",
       "    </tr>\n",
       "    <tr>\n",
       "      <th>3</th>\n",
       "      <td>3391</td>\n",
       "      <td>A</td>\n",
       "      <td>0</td>\n",
       "      <td>0.0</td>\n",
       "    </tr>\n",
       "    <tr>\n",
       "      <th>4</th>\n",
       "      <td>3401</td>\n",
       "      <td>B</td>\n",
       "      <td>0</td>\n",
       "      <td>0.0</td>\n",
       "    </tr>\n",
       "    <tr>\n",
       "      <th>...</th>\n",
       "      <td>...</td>\n",
       "      <td>...</td>\n",
       "      <td>...</td>\n",
       "      <td>...</td>\n",
       "    </tr>\n",
       "    <tr>\n",
       "      <th>8336</th>\n",
       "      <td>5760471</td>\n",
       "      <td>B</td>\n",
       "      <td>0</td>\n",
       "      <td>0.0</td>\n",
       "    </tr>\n",
       "    <tr>\n",
       "      <th>8337</th>\n",
       "      <td>5777081</td>\n",
       "      <td>B</td>\n",
       "      <td>0</td>\n",
       "      <td>0.0</td>\n",
       "    </tr>\n",
       "    <tr>\n",
       "      <th>8338</th>\n",
       "      <td>5870856</td>\n",
       "      <td>A</td>\n",
       "      <td>0</td>\n",
       "      <td>0.0</td>\n",
       "    </tr>\n",
       "    <tr>\n",
       "      <th>8339</th>\n",
       "      <td>5945085</td>\n",
       "      <td>B</td>\n",
       "      <td>0</td>\n",
       "      <td>0.0</td>\n",
       "    </tr>\n",
       "    <tr>\n",
       "      <th>8340</th>\n",
       "      <td>5951797</td>\n",
       "      <td>B</td>\n",
       "      <td>0</td>\n",
       "      <td>0.0</td>\n",
       "    </tr>\n",
       "  </tbody>\n",
       "</table>\n",
       "<p>8341 rows × 4 columns</p>\n",
       "</div>"
      ],
      "text/plain": [
       "           id grp  student_id    rev\n",
       "0        1627   A        1627  990.0\n",
       "1        2085   B           0    0.0\n",
       "2        2215   B           0    0.0\n",
       "3        3391   A           0    0.0\n",
       "4        3401   B           0    0.0\n",
       "...       ...  ..         ...    ...\n",
       "8336  5760471   B           0    0.0\n",
       "8337  5777081   B           0    0.0\n",
       "8338  5870856   A           0    0.0\n",
       "8339  5945085   B           0    0.0\n",
       "8340  5951797   B           0    0.0\n",
       "\n",
       "[8341 rows x 4 columns]"
      ]
     },
     "execution_count": 13,
     "metadata": {},
     "output_type": "execute_result"
    }
   ],
   "source": [
    "# меняем NaN у тех, кто ничего не оплатил на 0, но так, чтобы не потерять строки\n",
    "df['rev'] = df['rev'].fillna(0)\n",
    "df['student_id'] = df['student_id'].fillna(0).astype(int)\n",
    "df"
   ]
  },
  {
   "cell_type": "code",
   "execution_count": 14,
   "metadata": {},
   "outputs": [
    {
     "data": {
      "text/plain": [
       "7949"
      ]
     },
     "execution_count": 14,
     "metadata": {},
     "output_type": "execute_result"
    }
   ],
   "source": [
    "# проверим сколько различий между id и student_id\n",
    "(df['id'] != df['student_id']).sum()"
   ]
  },
  {
   "cell_type": "code",
   "execution_count": 15,
   "metadata": {},
   "outputs": [
    {
     "data": {
      "text/plain": [
       "392"
      ]
     },
     "execution_count": 15,
     "metadata": {},
     "output_type": "execute_result"
    }
   ],
   "source": [
    "# проверим столько совпадающих id (предполагаю, что именно они нам и нужны)\n",
    "(df['id'] == df['student_id']).sum()"
   ]
  },
  {
   "cell_type": "code",
   "execution_count": 16,
   "metadata": {},
   "outputs": [
    {
     "data": {
      "text/plain": [
       "False"
      ]
     },
     "execution_count": 16,
     "metadata": {},
     "output_type": "execute_result"
    }
   ],
   "source": [
    "# проверим, то ли мы вообще смерджили\n",
    "set(groups_full['id']) == set(checks['student_id'].astype('Int64'))"
   ]
  },
  {
   "cell_type": "code",
   "execution_count": 17,
   "metadata": {},
   "outputs": [
    {
     "data": {
      "text/plain": [
       "74035"
      ]
     },
     "execution_count": 17,
     "metadata": {},
     "output_type": "execute_result"
    }
   ],
   "source": [
    "# столько не попали в объединения\n",
    "len(set(groups_full['id']) - set(checks['student_id'].astype('Int64')))"
   ]
  },
  {
   "cell_type": "code",
   "execution_count": 18,
   "metadata": {},
   "outputs": [],
   "source": [
    "# тогда пойдем от обратного и отфильтруем checks по активным (по которым проводился эксперимент)\n",
    "checks_active = checks[checks['student_id'].isin(active_studs['student_id'])]"
   ]
  },
  {
   "cell_type": "code",
   "execution_count": 19,
   "metadata": {},
   "outputs": [],
   "source": [
    "# мерджим checks_active с groups_full\n",
    "ab_data = checks_active.merge(groups_full, left_on='student_id', right_on='id', how='inner')"
   ]
  },
  {
   "cell_type": "code",
   "execution_count": 20,
   "metadata": {},
   "outputs": [
    {
     "data": {
      "text/plain": [
       "0"
      ]
     },
     "execution_count": 20,
     "metadata": {},
     "output_type": "execute_result"
    }
   ],
   "source": [
    "# проверим \n",
    "(ab_data['student_id'] != ab_data['id']).sum()"
   ]
  },
  {
   "cell_type": "code",
   "execution_count": 21,
   "metadata": {},
   "outputs": [
    {
     "data": {
      "text/html": [
       "<div>\n",
       "<style scoped>\n",
       "    .dataframe tbody tr th:only-of-type {\n",
       "        vertical-align: middle;\n",
       "    }\n",
       "\n",
       "    .dataframe tbody tr th {\n",
       "        vertical-align: top;\n",
       "    }\n",
       "\n",
       "    .dataframe thead th {\n",
       "        text-align: right;\n",
       "    }\n",
       "</style>\n",
       "<table border=\"1\" class=\"dataframe\">\n",
       "  <thead>\n",
       "    <tr style=\"text-align: right;\">\n",
       "      <th></th>\n",
       "      <th>student_id</th>\n",
       "      <th>rev</th>\n",
       "      <th>id</th>\n",
       "      <th>grp</th>\n",
       "    </tr>\n",
       "  </thead>\n",
       "  <tbody>\n",
       "    <tr>\n",
       "      <th>0</th>\n",
       "      <td>1627</td>\n",
       "      <td>990.0000</td>\n",
       "      <td>1627</td>\n",
       "      <td>A</td>\n",
       "    </tr>\n",
       "    <tr>\n",
       "      <th>1</th>\n",
       "      <td>100300</td>\n",
       "      <td>990.0000</td>\n",
       "      <td>100300</td>\n",
       "      <td>B</td>\n",
       "    </tr>\n",
       "    <tr>\n",
       "      <th>2</th>\n",
       "      <td>108270</td>\n",
       "      <td>290.0000</td>\n",
       "      <td>108270</td>\n",
       "      <td>B</td>\n",
       "    </tr>\n",
       "    <tr>\n",
       "      <th>3</th>\n",
       "      <td>264473</td>\n",
       "      <td>1900.0001</td>\n",
       "      <td>264473</td>\n",
       "      <td>B</td>\n",
       "    </tr>\n",
       "    <tr>\n",
       "      <th>4</th>\n",
       "      <td>274352</td>\n",
       "      <td>690.0000</td>\n",
       "      <td>274352</td>\n",
       "      <td>B</td>\n",
       "    </tr>\n",
       "    <tr>\n",
       "      <th>...</th>\n",
       "      <td>...</td>\n",
       "      <td>...</td>\n",
       "      <td>...</td>\n",
       "      <td>...</td>\n",
       "    </tr>\n",
       "    <tr>\n",
       "      <th>387</th>\n",
       "      <td>5645737</td>\n",
       "      <td>1900.0000</td>\n",
       "      <td>5645737</td>\n",
       "      <td>B</td>\n",
       "    </tr>\n",
       "    <tr>\n",
       "      <th>388</th>\n",
       "      <td>5651566</td>\n",
       "      <td>1900.0000</td>\n",
       "      <td>5651566</td>\n",
       "      <td>B</td>\n",
       "    </tr>\n",
       "    <tr>\n",
       "      <th>389</th>\n",
       "      <td>5662322</td>\n",
       "      <td>1900.0000</td>\n",
       "      <td>5662322</td>\n",
       "      <td>B</td>\n",
       "    </tr>\n",
       "    <tr>\n",
       "      <th>390</th>\n",
       "      <td>5681918</td>\n",
       "      <td>1900.0000</td>\n",
       "      <td>5681918</td>\n",
       "      <td>B</td>\n",
       "    </tr>\n",
       "    <tr>\n",
       "      <th>391</th>\n",
       "      <td>5740903</td>\n",
       "      <td>1900.0000</td>\n",
       "      <td>5740903</td>\n",
       "      <td>B</td>\n",
       "    </tr>\n",
       "  </tbody>\n",
       "</table>\n",
       "<p>392 rows × 4 columns</p>\n",
       "</div>"
      ],
      "text/plain": [
       "     student_id        rev       id grp\n",
       "0          1627   990.0000     1627   A\n",
       "1        100300   990.0000   100300   B\n",
       "2        108270   290.0000   108270   B\n",
       "3        264473  1900.0001   264473   B\n",
       "4        274352   690.0000   274352   B\n",
       "..          ...        ...      ...  ..\n",
       "387     5645737  1900.0000  5645737   B\n",
       "388     5651566  1900.0000  5651566   B\n",
       "389     5662322  1900.0000  5662322   B\n",
       "390     5681918  1900.0000  5681918   B\n",
       "391     5740903  1900.0000  5740903   B\n",
       "\n",
       "[392 rows x 4 columns]"
      ]
     },
     "execution_count": 21,
     "metadata": {},
     "output_type": "execute_result"
    }
   ],
   "source": [
    "ab_data"
   ]
  },
  {
   "cell_type": "markdown",
   "metadata": {},
   "source": [
    "После объединения данных из groups.csv (74 484 строки) и groups_add.csv (92 строки) мы получили полный набор участников эксперимента — 74 576 уникальных пользователей, распределённых по группам A и B.\n",
    "\n",
    "Затем мы сузили фокус до пользователей, которые реально заходили на платформу в период эксперимента — таких оказалось 8 341 человек (данные из active_studs.csv). Это ключевой момент: нас интересует только поведение тех, кто мог увидеть изменения, а не всех, кого записали в тест.\n",
    "\n",
    "Далее мы попытались понять, кто из этих активных пользователей совершал оплату. Из 541 записи в checks.csv только 392 оказались валидными: они относятся к пользователям, которые и были активны, и есть в основной группе groups_full. Мы отфильтровали только такие строки, чтобы не учитывать “левые” оплаты, не связанные с экспериментом.\n",
    "\n",
    "В результате мы получили чистый датафрейм на 392 строки, содержащий информацию об оплатах участников эксперимента. И хотя это лишь малая часть от всей выборки, этого достаточно, потому что:\\\n",
    " • это реальные, валидные наблюдения;\\\n",
    " • они точно соответствуют критериям участия в эксперименте;\\\n",
    " • и именно они будут основой для расчёта конверсии, ARPU и других метрик.\\\n",
    "\n",
    "**Подитог:** мы избавились от лишнего шума и подготовили максимально корректные данные для A/B-анализа."
   ]
  },
  {
   "cell_type": "markdown",
   "metadata": {},
   "source": [
    "### Шаг 3: \n",
    "Приступаем к расчету ключевых метрик"
   ]
  },
  {
   "cell_type": "code",
   "execution_count": 22,
   "metadata": {},
   "outputs": [
    {
     "data": {
      "text/plain": [
       "B    314\n",
       "A     78\n",
       "Name: grp, dtype: int64"
      ]
     },
     "execution_count": 22,
     "metadata": {},
     "output_type": "execute_result"
    }
   ],
   "source": [
    "# сначала посмотрим на получившийся дф, проверим его на адекватность\n",
    "# сначала узнаем размер каждой группы\n",
    "ab_data['grp'].value_counts()"
   ]
  },
  {
   "cell_type": "code",
   "execution_count": 23,
   "metadata": {},
   "outputs": [
    {
     "name": "stdout",
     "output_type": "stream",
     "text": [
      "<class 'pandas.core.frame.DataFrame'>\n",
      "Int64Index: 392 entries, 0 to 391\n",
      "Data columns (total 4 columns):\n",
      " #   Column      Non-Null Count  Dtype  \n",
      "---  ------      --------------  -----  \n",
      " 0   student_id  392 non-null    int64  \n",
      " 1   rev         392 non-null    float64\n",
      " 2   id          392 non-null    int64  \n",
      " 3   grp         392 non-null    object \n",
      "dtypes: float64(1), int64(2), object(1)\n",
      "memory usage: 15.3+ KB\n"
     ]
    },
    {
     "data": {
      "text/plain": [
       "count     392.000000\n",
       "mean     1193.352050\n",
       "std       827.136901\n",
       "min       199.000000\n",
       "25%       290.000000\n",
       "50%       990.000000\n",
       "75%      1900.000000\n",
       "max      4650.000000\n",
       "Name: rev, dtype: float64"
      ]
     },
     "execution_count": 23,
     "metadata": {},
     "output_type": "execute_result"
    }
   ],
   "source": [
    "# основную информацию\n",
    "ab_data.info()\n",
    "# базовая статистика по выручке\n",
    "ab_data.rev.describe()"
   ]
  },
  {
   "cell_type": "code",
   "execution_count": 24,
   "metadata": {},
   "outputs": [
    {
     "name": "stdout",
     "output_type": "stream",
     "text": [
      "Группа A:\n",
      " count      78.000000\n",
      "mean      933.589744\n",
      "std       919.932711\n",
      "min       199.000000\n",
      "25%       290.000000\n",
      "50%       585.000000\n",
      "75%      1114.750000\n",
      "max      3660.000000\n",
      "Name: rev, dtype: float64\n",
      "\n",
      "Группа B:\n",
      " count     314.000000\n",
      "mean     1257.878992\n",
      "std       790.864254\n",
      "min       199.000000\n",
      "25%       511.750000\n",
      "50%      1140.000000\n",
      "75%      1900.000000\n",
      "max      4650.000000\n",
      "Name: rev, dtype: float64\n"
     ]
    }
   ],
   "source": [
    "# разделим данные по группам\n",
    "group_a = ab_data[ab_data['grp'] == 'A']\n",
    "group_b = ab_data[ab_data['grp'] == 'B']\n",
    "# выведем статистику по каждой\n",
    "print(\"Группа A:\\n\", group_a['rev'].describe())\n",
    "print(\"\\nГруппа B:\\n\", group_b['rev'].describe())"
   ]
  },
  {
   "cell_type": "markdown",
   "metadata": {},
   "source": [
    "У нас наблюдается некоторый дисбаланс по размеру выборки: в группе B в ~4 раза больше людей, чем в A. Это не критично, но влияет на выбор теста статистической значимости. \\\n",
    "Выручка: ср.выручка выше в группе B (1257), против группы А (933). Медиана в группе B (1140) также выше, чем в А (585). Стандартное отклонение в обеих группах высокое - признак неоднородности данных и возможных выбросов. \\\n",
    "Предварительный вывод: \\\n",
    " - у нас асимметричное распределение (медиана ≠ среднее) -> вероятны выбросы или смещенное распределение\n",
    " - пропусков и отрицательных значений нет\n",
    "\n",
    "Следующим шагом вызуализируем распределения выручки и проверим на выбросы, чтобы посмотреть форму распределения, найти выборы и принять решение какой тест использовать дальше"
   ]
  },
  {
   "cell_type": "code",
   "execution_count": 25,
   "metadata": {},
   "outputs": [
    {
     "data": {
      "image/png": "[encoded data removed]",
      "text/plain": [
       "<Figure size 1008x432 with 2 Axes>"
      ]
     },
     "metadata": {},
     "output_type": "display_data"
    }
   ],
   "source": [
    "# визуализируем выручку revпо группам А и B с помощью гистограмм и боксплотов\n",
    "# Установим стиль\n",
    "sns.set(style=\"whitegrid\")\n",
    "# Гистограммы\n",
    "plt.figure(figsize=(14, 6))\n",
    "\n",
    "plt.subplot(1, 2, 1)\n",
    "sns.histplot(group_a['rev'], kde=True, bins=20, color='skyblue')\n",
    "plt.title('Группа A — распределение выручки')\n",
    "\n",
    "plt.subplot(1, 2, 2)\n",
    "sns.histplot(group_b['rev'], kde=True, bins=20, color='salmon')\n",
    "plt.title('Группа B — распределение выручки')\n",
    "\n",
    "plt.show()\n"
   ]
  },
  {
   "cell_type": "code",
   "execution_count": 26,
   "metadata": {},
   "outputs": [
    {
     "data": {
      "image/png": "[encoded data removed]",
      "text/plain": [
       "<Figure size 576x432 with 1 Axes>"
      ]
     },
     "metadata": {},
     "output_type": "display_data"
    }
   ],
   "source": [
    "# Boxplot для обеих групп\n",
    "plt.figure(figsize=(8, 6))\n",
    "sns.boxplot(x='grp', y='rev', data=ab_data, palette='Set2')\n",
    "plt.title('Boxplot выручки по группам')\n",
    "plt.show()"
   ]
  },
  {
   "cell_type": "markdown",
   "metadata": {},
   "source": [
    "- В группе А на графиках мы видим, что распределение асимметричное, с правосторонним смещением. Есть выбросы, видны на боксплоте: значения около 3000 и выше. Большинство значений лиежит в диапазоне 200-1200, при этом среднее подтягивается вверх выбросами.\\\n",
    "- В группе B случай ещё более интересный: двугорбое\\бимодальное распределение, с явным всплеском в районе ~2000. Возможно, там массовая покупка определенного продукта/пакета. Также сильная ассиметрия с выбросами. Среднее выше, чем у группы А, но боксплот показывает, что распределение тоже нестабильное.\\\n",
    "\\\n",
    "Распределения в обеих группах далеки от нормальных, в обоих случаях мы наблюдаем хвосты, выбросы и смещения. Это значит, что t-тест применять рискованно, он чувствителен к отклонениям от нормальности. "
   ]
  },
  {
   "cell_type": "markdown",
   "metadata": {},
   "source": [
    "Перейдем к оценки результатов A/B теста. Наиболее подходящие метрики в нашем случае:\\\n",
    "- CR (Conversion rate) - доля оплативших пользователей от всех участников группы. Позволит понять, сколько пользователей конвертировались из просто активных в платящих (а это очень важно);\n",
    "- ARPU (Average Revenue Per User) - средняя выручка на пользователя (включая не платящих). Оценим эффективность монетизации всех пользователей;\n",
    "- ARPPU (Average Revenue Per Paying User) - средняя выручка на оплатившего пользователя. Покажет, насколько хорошо платящие пользователи приносят доход, без учета \"молчунов\". "
   ]
  },
  {
   "cell_type": "code",
   "execution_count": 27,
   "metadata": {},
   "outputs": [],
   "source": [
    "# создадим копию дф со всеми активными пользователями, которые участвовали в эксперименте\n",
    "ab_data_full = df.copy()"
   ]
  },
  {
   "cell_type": "code",
   "execution_count": null,
   "metadata": {},
   "outputs": [],
   "source": []
  },
  {
   "cell_type": "code",
   "execution_count": 28,
   "metadata": {},
   "outputs": [],
   "source": [
    "# напишем функцию, которая посчитает по датафрейму все основные метрики для каждой из групп\n",
    "# CR = числов оплативших / общее число пользователей\n",
    "# ARPU = вся выручка / общее число пользователей\n",
    "# ARPPU = выручка, по тем, у кого она > 0/ общее число оплативших \n",
    "def calculate_metrics (df): \n",
    "    result = {} # словарь для хранения результатов по группам\n",
    "    # проходимся по каждой группе (A и B)\n",
    "    for group in df['grp'].unique():\n",
    "        group_df = df[df['grp'] == group] # отбираем строки только текущей группы\n",
    "        \n",
    "        total_users = group_df ['id'].nunique() # всего пользователей в группе\n",
    "        paying_users = group_df[group_df['rev'] > 0]['id'].nunique() # кол-во платящих \n",
    "        total_revenue = group_df['rev'].sum() # общая выручка в группе \n",
    "        revenue_from_payers = group_df[group_df['rev'] > 0]['rev'].sum() # выручка от платящих \n",
    "        \n",
    "        # считаем метрики\n",
    "        CR = paying_users / total_users\n",
    "        ARPU = total_revenue / total_users\n",
    "        ARPPU = revenue_from_payers / paying_users\n",
    "        \n",
    "        # сохраняем метрики для текущей группы\n",
    "        result[group] = {\n",
    "            'Total Users': total_users,\n",
    "            'Paying Users': paying_users,\n",
    "            'CR': CR,\n",
    "            'ARPU': ARPU,\n",
    "            'ARPPU': ARPPU\n",
    "        }\n",
    "    return pd.DataFrame(result).T # преобразовываем словарь в дф и транспонируем для удобства"
   ]
  },
  {
   "cell_type": "code",
   "execution_count": 29,
   "metadata": {},
   "outputs": [
    {
     "data": {
      "text/html": [
       "<div>\n",
       "<style scoped>\n",
       "    .dataframe tbody tr th:only-of-type {\n",
       "        vertical-align: middle;\n",
       "    }\n",
       "\n",
       "    .dataframe tbody tr th {\n",
       "        vertical-align: top;\n",
       "    }\n",
       "\n",
       "    .dataframe thead th {\n",
       "        text-align: right;\n",
       "    }\n",
       "</style>\n",
       "<table border=\"1\" class=\"dataframe\">\n",
       "  <thead>\n",
       "    <tr style=\"text-align: right;\">\n",
       "      <th></th>\n",
       "      <th>Total Users</th>\n",
       "      <th>Paying Users</th>\n",
       "      <th>CR</th>\n",
       "      <th>ARPU</th>\n",
       "      <th>ARPPU</th>\n",
       "    </tr>\n",
       "  </thead>\n",
       "  <tbody>\n",
       "    <tr>\n",
       "      <th>A</th>\n",
       "      <td>1538.0</td>\n",
       "      <td>78.0</td>\n",
       "      <td>0.050715</td>\n",
       "      <td>47.347204</td>\n",
       "      <td>933.589744</td>\n",
       "    </tr>\n",
       "    <tr>\n",
       "      <th>B</th>\n",
       "      <td>6803.0</td>\n",
       "      <td>314.0</td>\n",
       "      <td>0.046156</td>\n",
       "      <td>58.058798</td>\n",
       "      <td>1257.878992</td>\n",
       "    </tr>\n",
       "  </tbody>\n",
       "</table>\n",
       "</div>"
      ],
      "text/plain": [
       "   Total Users  Paying Users        CR       ARPU        ARPPU\n",
       "A       1538.0          78.0  0.050715  47.347204   933.589744\n",
       "B       6803.0         314.0  0.046156  58.058798  1257.878992"
      ]
     },
     "execution_count": 29,
     "metadata": {},
     "output_type": "execute_result"
    }
   ],
   "source": [
    "# смотрим на результаты нашей по нашему дф \n",
    "metrics = calculate_metrics(ab_data_full)\n",
    "metrics"
   ]
  },
  {
   "cell_type": "markdown",
   "metadata": {},
   "source": [
    "Так как у нас сильно несимметричное распределение, в дополнение к основным метрикам я решил подсчитать медиану выручки по группам, что позволит лучше понять распределение доходов и избежать искажений из-за эсктремальных значений. "
   ]
  },
  {
   "cell_type": "code",
   "execution_count": 30,
   "metadata": {},
   "outputs": [
    {
     "name": "stdout",
     "output_type": "stream",
     "text": [
      "  group  median_revenue\n",
      "0     A             0.0\n",
      "1     B             0.0\n"
     ]
    }
   ],
   "source": [
    "# считаем медиану по группам\n",
    "median_revenue = ab_data_full.groupby('grp')['rev'].median().reset_index()\n",
    "median_revenue.columns = ['group', 'median_revenue']\n",
    "print(median_revenue)"
   ]
  },
  {
   "cell_type": "markdown",
   "metadata": {},
   "source": [
    "Результат ожидаемый: медиана - срединное значение в упорядоченном списке. Так как большинство пользователей не оплатили ничего, у нас 90% значений во всем массиве - 0, соответственно медиана тоже показала 0. \\ \n",
    "В таком случае можем оценить медианную выручку именно у платящих пользователей:"
   ]
  },
  {
   "cell_type": "code",
   "execution_count": 31,
   "metadata": {},
   "outputs": [
    {
     "name": "stdout",
     "output_type": "stream",
     "text": [
      "  group  median_revenue_paid\n",
      "0     A                585.0\n",
      "1     B               1140.0\n"
     ]
    }
   ],
   "source": [
    "# можно было взять ab_data, в котором только платящие активные, но я решил копировать из функции фильтр:\n",
    "median_paid = ab_data_full[ab_data_full['rev'] > 0].groupby('grp')['rev'].median().reset_index()\n",
    "median_paid.columns = ['group', 'median_revenue_paid']\n",
    "print(median_paid)"
   ]
  },
  {
   "cell_type": "markdown",
   "metadata": {},
   "source": [
    "Можем отметить, что в группе B платящие пользователи приносят в 2 раза больше выручки по медиане, чем в А группе, несмотря на чуть меньшую конверсию. Это для нас важно, так как мы оцениваем не только количество платящих, но и прибыль. "
   ]
  },
  {
   "cell_type": "markdown",
   "metadata": {},
   "source": [
    "### Шаг 4. Проверка гипотез\n",
    "Задача на данном этапе: понять, есть ли статистически значимые различия между группами А и B по метрикам. Сфокусируемся на 2-х подходах: \n",
    "1. Bootstrap (проверим CR, ARPU, ARPPU) - многократно случайно выберем подвыборки из наших данных с возвращением. Это поможет нам понять, насколько различия между группами могли возникнуть случайно. Будем работать с медианами, так как это более понятный для бизнеса показатель и у нас распределение далеко от нормального. Но на всякий случай ещё и средние сравним.\n",
    "2. Welch's t-test (для ARPPU, как дополнительная проверка)"
   ]
  },
  {
   "cell_type": "code",
   "execution_count": 32,
   "metadata": {},
   "outputs": [],
   "source": [
    "# Отделим группы из полного датафрейма\n",
    "# здесь все значения выручки, включая нули\n",
    "group_a_full = ab_data_full[ab_data_full['grp'] == 'A']['rev'].astype(int).values\n",
    "group_b_full = ab_data_full[ab_data_full['grp'] == 'B']['rev'].astype(int).values\n",
    "\n",
    "# а здесь возьмем показатели выручки только по активным платящим\n",
    "group_a_values = group_a['rev'].astype(int).values\n",
    "group_b_values = group_b['rev'].astype(int).values"
   ]
  },
  {
   "cell_type": "code",
   "execution_count": 33,
   "metadata": {},
   "outputs": [
    {
     "name": "stdout",
     "output_type": "stream",
     "text": [
      "Bootstrap 95% CI для разницы CR (B - A): ConfidenceInterval(low=-6.414393548551113, high=26.417664489410026)\n",
      "Оценка разницы CR: 10.711593428050463\n"
     ]
    }
   ],
   "source": [
    "# преобразуем данные в формат, подходящий для bootstrap: массивы внутри кортежа\n",
    "data_all = (group_a_full, group_b_full)\n",
    "\n",
    "# функция для разницы в CR\n",
    "def diff_cr(data1, data2):\n",
    "    return np.mean(data2) - np.mean(data1)\n",
    "\n",
    "# выполняем бутстрап с 10 000 повторов\n",
    "result_cr = bootstrap(\n",
    "    data_all,\n",
    "    statistic=diff_cr,\n",
    "    vectorized=False,\n",
    "    n_resamples=10_000,\n",
    "    confidence_level=0.95,\n",
    "    method='percentile',\n",
    "    random_state=42\n",
    ")\n",
    "\n",
    "print(\"Bootstrap 95% CI для разницы CR (B - A):\", result_cr.confidence_interval)\n",
    "print(\"Оценка разницы CR:\", diff_cr(group_a_full, group_b_full))"
   ]
  },
  {
   "cell_type": "markdown",
   "metadata": {},
   "source": [
    "Убедимся в том, что сравнивать средние в нашем случае - это такая себе идея:мы видм 95% доверительный интервал разницы CR (B-A) от -6.41 до 26.42, оценка разницы CR (стандартная ошибка): ~10.71.\\\n",
    "Поскольку доверительный интервал содержит 0, мы не можем утверждать, что между группами А и B есть статистически значимая разница. Проверим всё таки медианы:"
   ]
  },
  {
   "cell_type": "code",
   "execution_count": 34,
   "metadata": {},
   "outputs": [
    {
     "name": "stdout",
     "output_type": "stream",
     "text": [
      "Bootstrap 95% CI для разницы медиан ARPU (B - A): ConfidenceInterval(low=330.0, high=1320.0)\n",
      "Оценка разницы медиан ARPU: 289.4494683623266\n"
     ]
    }
   ],
   "source": [
    "data_paying = (group_a_values, group_b_values)\n",
    "\n",
    "def diff_median(data1, data2):\n",
    "    return np.median(data2) - np.median(data1)\n",
    "\n",
    "result = bootstrap(\n",
    "    data_paying,\n",
    "    statistic=diff_median,\n",
    "    vectorized=False,\n",
    "    n_resamples=10000,\n",
    "    confidence_level=0.95,\n",
    "    method='percentile',\n",
    "    random_state=42\n",
    ")\n",
    "\n",
    "print(\"Bootstrap 95% CI для разницы медиан ARPU (B - A):\", result.confidence_interval)\n",
    "print(\"Оценка разницы медиан ARPU:\", result.standard_error)"
   ]
  },
  {
   "cell_type": "markdown",
   "metadata": {},
   "source": [
    "Здесь мы смотрим на работающий бутстрап по медиане ARPU, выполненный на данных только по активным платящим пользователям, а не по всей массе из ~8000, где 90% не дали и рубля.\\\n",
    "Результаты:\\\n",
    " • Bootstrap 95% CI для разницы медиан ARPU (B - A): (330.0, 1320.0)\\\n",
    " • Оценка стандартной ошибки: ≈ 289.45 (это разброс бутстрап-оценок — насколько “шатается” наша медианная разница)\\\n",
    "\n",
    "Интерпретация:\n",
    " 1. Интервал не содержит ноль\\\n",
    "→ разница статистически значима на уровне 95% доверия.\\\n",
    "→ группа B выигрывает у A: медианная выручка на пользователя выше.\\\n",
    " 2. Медиана в группе B выше минимум на 330₽ и максимум на 1320₽, что весьма заметный прирост.\n",
    " 3. Стандартная ошибка адекватная — бутстрап стабилен, если повторить 10 раз, то снова получим примерно то же.\n",
    "\n",
    "❓Удачен ли тест?\n",
    "\n",
    "→ Да, ведь цель была:\\\n",
    " • проверить, влияет ли изменение на выручку с платящего пользователя (ARPPU) или, точнее, медиану среди них\\\n",
    " • и мы при этом сознательно ограничиваем анализ платящими, понимая, что CR/ARPU без этого сильно размыты\\\n",
    "\n",
    "🎯 Вывод:\n",
    "\n",
    "Для оценки медианного ARPU между группами A и B использован бутстрап по активным платящим пользователям (n=392).\n",
    "Доверительный интервал (330.0; 1320.0) не содержит 0, что указывает на статистически значимое увеличение медианной выручки в группе B.\\\n",
    "Это может свидетельствовать об эффективности тестируемого изменения для платящей аудитории, но не отражает ситуацию среди всех пользователей. CR и ARPU по среднему - не дали статистической значимости (интервал содержит 0), что логично из-за смещенности и перекоса. \n"
   ]
  },
  {
   "cell_type": "markdown",
   "metadata": {},
   "source": [
    "Теперь перейдем к тесту Уэлча. Он также подходит при неравных дисперсиях и размерах выборки. Но, важно: он работает со средними, а не медианами. Проведем т-тест Уэлча по ARPU, на основе ab_data_full, где rev может быть 0. "
   ]
  },
  {
   "cell_type": "code",
   "execution_count": 35,
   "metadata": {},
   "outputs": [
    {
     "name": "stdout",
     "output_type": "stream",
     "text": [
      "T-статистика: -1.2864\n",
      "P-значение: 0.1984\n"
     ]
    }
   ],
   "source": [
    "# применяем тест Уэлча (equal_var=False — как раз и указывает, что дисперсии могут быть разными)\n",
    "t_stat, p_value = ttest_ind(group_a_full, group_b_full, equal_var=False)\n",
    "\n",
    "print(f\"T-статистика: {t_stat:.4f}\")\n",
    "print(f\"P-значение: {p_value:.4f}\")"
   ]
  },
  {
   "cell_type": "markdown",
   "metadata": {},
   "source": [
    "P-value = 0.1984 > 0.05 — значит, разница средних ARPU между группами A и B не является статистически значимой на уровне значимости 5%.\n",
    " 2. Мы не отвергаем нулевую гипотезу, то есть не можем утверждать, что в группе B пользователи приносят выручки существенно больше, чем в группе A.\n",
    " 3. Даже несмотря на то, что средний ARPU в группе B выше, этого не достаточно, чтобы сделать уверенный вывод — возможна погрешность, шум, недостаточная мощность теста.\n",
    "\n",
    "⸻\n",
    "\n",
    "А вот бутстрап по медиане ARPU показал, что разница между B и A статистически значима (95% интервал: от 330 до 1320) — то есть платящие пользователи B тратят ощутимо больше. Это важно.\n",
    "\n",
    "⸻\n",
    "\n",
    "**Вывод:**\\\n",
    " • Welch’s t-test не заметил значимой разницы по среднему ARPU, как и бутстрап по среднему — вероятно, влияют нули от неоплативших.\\\n",
    " • Бутстрап по медиане — более устойчивый к выбросам и нулям — показал разницу, поэтому мы ему больше доверяем в данной ситуации.\\\n",
    " • Сильный перекос в распределении данных (асимметрия) делает бутстрап более надёжным методом в этом кейсе."
   ]
  },
  {
   "cell_type": "markdown",
   "metadata": {},
   "source": [
    "### Шаг 5. Общие выводы\n",
    "Мы протестировали изменения, направленные на увеличение выручки пользователей. Использовались 2 группы:\n",
    " • A — контрольная\n",
    " • B — тестовая\n",
    "Работа велась на активных и плативших пользователях (N=392), поскольку в полном датасете большинство значений выручки равны 0.\n",
    "\n",
    "⸻\n",
    "\n",
    "Шаг 3 — Метрики:\n",
    " 1. CR (conversion rate) — доля оплативших:\\\n",
    " • A: 5.07%\\\n",
    " • B: 4.62%\\\n",
    " • ➡️ Разница незначительная\n",
    " 2. ARPU (средняя выручка на пользователя):\\\n",
    " • A: 47.35\\\n",
    " • B: 58.06\\\n",
    " • ➡️ В группе B чуть выше, но…\n",
    " 3. ARPPU (средняя выручка на платящего пользователя):\\\n",
    " • A: 933.59\\\n",
    " • B: 1257.88\\\n",
    " • ➡️ Существенно выше в группе B\n",
    " 4. Медиана выручки:\\\n",
    " • A: 585.0\\\n",
    " • B: 1140.0\\\n",
    " • ➡️ В группе B почти в 2 раза выше\n",
    "\n",
    "⸻\n",
    "\n",
    "Этап 4 — Проверка гипотез:\n",
    "\n",
    "✅ Бутстрап (медиана ARPU):\\\n",
    " • 95%-й доверительный интервал/CI: (330.0, 1320.0)\\\n",
    " • Разница значима — в группе B медианная выручка выше\\\n",
    " • 📌 Метод устойчив к выбросам и нулям — надёжен в этом кейсе\n",
    "\n",
    "⛔ Welch’s t-test (среднее ARPU):\\\n",
    " • P-value = 0.1984 (> 0.05)\\\n",
    " • Разница средних не значима\\\n",
    " • 📌 Метод чувствителен к нулям и несимметрии — здесь проигрывает бутстрапу\n",
    "\n",
    "⸻\n",
    "\n",
    "🧠 **Общий вывод:**\n",
    " 1. Изменения могут оказывать положительное влияние на выручку с платящих пользователей — об этом говорит рост медианы ARPU.\n",
    " 2. Однако общая конверсия (CR) и ARPU не изменились значимо.\n",
    " 3. Поэтому, если цель — увеличить чек среди платящих, гипотеза выглядит перспективно.\n",
    " 4. Но массового роста прибыли от всех пользователей не зафиксировано, и эффект не статистически устойчив по всем метрикам.\n",
    "\n",
    "⸻\n",
    "\n",
    "**Рекомендация:**\\\n",
    " • Провести дополнительный тест с большим объёмом платящих пользователей.\\\n",
    " • Или усилить изменения, чтобы они повлияли и на конверсию.\\\n",
    " • Использовать бутстрап как основной метод анализа в условиях несимметричного распределения."
   ]
  },
  {
   "cell_type": "markdown",
   "metadata": {},
   "source": [
    "##  Задание 2. SQL\n",
    "\n",
    "### 2.1 Очень усердные ученики.\n",
    "Цель: найти кол-во учеников, которые в текущем месяце правильно решили 20+ \"горошин\"\\\n",
    "Логика: фильтруем только правильные решения --> берем только текущий месяц --> группируем по st_id и считаем кол-во \"горошин\" --> оставляем только тех, у кого >20 --> считаем общее кол-во"
   ]
  },
  {
   "cell_type": "code",
   "execution_count": 219,
   "metadata": {},
   "outputs": [
    {
     "ename": "SyntaxError",
     "evalue": "invalid syntax (<ipython-input-219-490d09cb5899>, line 1)",
     "output_type": "error",
     "traceback": [
      "\u001b[0;36m  File \u001b[0;32m\"<ipython-input-219-490d09cb5899>\"\u001b[0;36m, line \u001b[0;32m1\u001b[0m\n\u001b[0;31m    -- получаем начало последнего месяца в таблице\u001b[0m\n\u001b[0m                     ^\u001b[0m\n\u001b[0;31mSyntaxError\u001b[0m\u001b[0;31m:\u001b[0m invalid syntax\n"
     ]
    }
   ],
   "source": [
    "-- получаем начало последнего месяца в таблице \n",
    "WITH last_month AS (\n",
    "    SELECT date_trunc ('month', MAX(timest)) AS last_month_start\n",
    "    FROM peas\n",
    "),\n",
    "-- фильтруем по актуальному(в нашем случае последнему) месяцу и ищем тех, кто решил >= 20 правильных горошин\"\n",
    "diligent_students AS (\n",
    "   SELECT st_id\n",
    "     FROM peas, last_month\n",
    "    WHERE correct = true\n",
    "      AND date_trunc('month', timest) = last_month.last_month_start\n",
    "    GROUP BY st_id\n",
    "   HAVING COUNT (*) >= 20\n",
    ")\n",
    "-- считаем прилежных учеников\n",
    "SELECT COUNT(*) AS very_diligent_students\n",
    " FROM diligent_students; "
   ]
  },
  {
   "cell_type": "markdown",
   "metadata": {},
   "source": [
    "### 2.2 Оптимизация воронки\n",
    "Цель: Необходимо в одном запросе выгрузить основные метрики (ARPU, ARPAU, CR в покупку, СR активного пользователя в покупку, CR пользователя из активности по математике (subject = ’math’) в покупку курса по математике)\n",
    "Логика:\\ \n",
    "- все метрики - по группам (test_grp)\\\n",
    "- активный пользователь - решивший > 10 задач в любых дисциплинах\n",
    "- активный по математике - решивший > 2 задач по математике\n",
    "- используем Left Join - не потерять тех, кто не купил \n",
    "- все метрики считаем из одного общего CTE или вложенной таблицы "
   ]
  },
  {
   "cell_type": "code",
   "execution_count": null,
   "metadata": {},
   "outputs": [],
   "source": [
    "-- задача 2.2.2\n",
    "-- основной запрос по метрикам по группам с помощью CTE \n",
    "WITH active_users AS (\n",
    "    -- Пользователи, решившие > 10 задач правильно (в любых предметах)\n",
    "    SELECT st_id\n",
    "    FROM peas\n",
    "    WHERE correct = true\n",
    "    GROUP BY st_id\n",
    "    HAVING COUNT(*) > 10\n",
    "),\n",
    "\n",
    "math_active_users AS (\n",
    "    -- Пользователи, решившие ≥2 задачи по математике правильно\n",
    "    SELECT st_id\n",
    "    FROM peas\n",
    "    WHERE correct = true AND subject = 'math'\n",
    "    GROUP BY st_id\n",
    "    HAVING COUNT(*) >= 2\n",
    "),\n",
    "\n",
    "payments AS (\n",
    "    -- Все покупки: один пользователь мог купить несколько курсов, поэтому берем сумму\n",
    "    SELECT st_id, SUM(money) AS total_revenue\n",
    "    FROM final_project_check\n",
    "    GROUP BY st_id\n",
    "),\n",
    "\n",
    "user_info AS (\n",
    "    -- Собираем инфу по каждому студенту: его группа, платеж, активность\n",
    "    SELECT \n",
    "        s.st_id,\n",
    "        s.test_grp,\n",
    "        COALESCE(p.total_revenue, 0) AS revenue,\n",
    "        CASE WHEN a.st_id IS NOT NULL THEN 1 ELSE 0 END AS is_active,\n",
    "        CASE WHEN ma.st_id IS NOT NULL THEN 1 ELSE 0 END AS is_math_active,\n",
    "        CASE WHEN p.st_id IS NOT NULL THEN 1 ELSE 0 END AS is_buyer\n",
    "    FROM studs s\n",
    "    LEFT JOIN payments p ON s.st_id = p.st_id\n",
    "    LEFT JOIN active_users a ON s.st_id = a.st_id\n",
    "    LEFT JOIN math_active_users ma ON s.st_id = ma.st_id\n",
    ")\n",
    "\n",
    "SELECT\n",
    "    test_grp,\n",
    "    COUNT(*) AS total_users,\n",
    "    SUM(is_buyer) AS paying_users,\n",
    "    ROUND(SUM(revenue)::NUMERIC / COUNT(*), 2) AS arpu,\n",
    "    ROUND(SUM(revenue)::NUMERIC / NULLIF(SUM(is_buyer), 0), 2) AS arpau,\n",
    "    ROUND(SUM(is_buyer)::NUMERIC / COUNT(*), 2) AS cr,\n",
    "    ROUND(SUM(is_buyer)::NUMERIC / NULLIF(SUM(is_active), 0), 2) AS cr_active,\n",
    "    ROUND(SUM(is_buyer * is_math_active)::NUMERIC / NULLIF(SUM(is_math_active), 0), 2) AS cr_math\n",
    "FROM user_info\n",
    "GROUP BY test_grp\n",
    "ORDER BY test_grp;\n"
   ]
  },
  {
   "cell_type": "markdown",
   "metadata": {},
   "source": [
    "**Финальные выводы:**\n",
    "\n",
    "📌 2.1 — Очень прилежные ученики\\\n",
    " • мы определили «прилежных» как тех, кто решил ≥20 задач правильно за последний месяц данных;\\\n",
    " • фильтр по дате — не NOW(), а поиск последнего месяца в таблице;\\\n",
    " • в результате получено: 136 очень усердных/прилежных студентов\\\n",
    "⸻\n",
    "\n",
    "📌 2.2 — Воронка и метрики по группам\n",
    "Полученные значения (примерные):\\\n",
    "Control\\\n",
    " • total_users: 305\\\n",
    " • paying_users: 15\\\n",
    " • ARPU: ~4,540\\\n",
    " • ARPAU: ~92,333\\\n",
    " • CR: 0.05\\\n",
    " • CR Active: 0.12\\\n",
    " • CR Math: — (0 активных в математике)\n",
    "\n",
    "Pilot\\\n",
    " • total_users: 295\\\n",
    " • paying_users: 32\\\n",
    " • ARPU: ~11,508\\\n",
    " • ARPAU: ~106,093\\\n",
    " • CR: 0.11\\\n",
    " • CR Active: 0.33\\\n",
    " • CR Math: — (аналогично: 0 активных)\n",
    "\n",
    "⸻\n",
    "Общие наблюдения:\\\n",
    " • Pilot-группа (с новым экраном оплаты) показала лучшие результаты почти по всем метрикам:\\\n",
    " • ARPU вырос в 2.5 раза\\\n",
    " • Кол-во платящих пользователей выросло более чем в 2 раза\\\n",
    " • CR и CR Active выше, особенно среди активных пользователей (0.33 против 0.11)\\\n",
    "\n",
    "Новый экран оплаты работает:\\\n",
    "Пользователи охотнее покупают доступ при новом оформлении — особенно те, кто уже активно решает задания. Это важный сигнал: новый UI повышает конверсию.\\\n",
    " 2. Рост ARPU означает не только больше покупателей, но и возможно более дорогие покупки. Это потенциальное увеличение выручки без увеличения трафика.\\\n",
    " 3. CR среди активных резко выше в пилоте. Это указывает, что мотивация решать больше задач может быть связана с желанием купить, и новый экран это усиливает.\\\n",
    "⸻\n",
    "\n",
    "Ограничения:\\\n",
    " • В обеих группах нет пользователей, активно решающих задачи по математике → CR Math неинформативен. Вероятно, стоит подумать о продвижении математических курсов отдельно.\n",
    "\n",
    "⸻\n",
    "\n",
    "Рекомендации:\\\n",
    " • внедрять новый экран оплаты — он явно эффективнее;\\\n",
    " • возможно, рассмотреть таргетированное предложение для активных пользователей (upsell);\\\n",
    " • провести дополнительный эксперимент по математике, если курс важен для бизнеса.\n"
   ]
  },
  {
   "cell_type": "code",
   "execution_count": null,
   "metadata": {},
   "outputs": [],
   "source": []
  },
  {
   "cell_type": "markdown",
   "metadata": {},
   "source": [
    "## Задание 3. Python\n",
    "Написать функцию, для обновления данных из groups_add (ранее был загружен или можно с помощью функции load_dataframes подгрузить новый файл и сохранить также в переменную автоматически) и пересчета метрик"
   ]
  },
  {
   "cell_type": "markdown",
   "metadata": {},
   "source": [
    "Но так как изначально в первом задании мы работали с API, то можно также подгружать по api и получать уже из переменной нужные нам данные.\\\n",
    "Напишем функцию, которая принимает уже загруженные датафреймы:\n",
    "    - groups_add: датафрейм с колонками id и grp (названия могут отличаться)\n",
    "    - ab_data_full: исходный созданный ранее датафрейм\n",
    "    - active_studs: активные пользователи\n",
    "    - checks: платежи\n",
    "    Возвращает:\n",
    "    - датафрейм с рассчитанными метриками"
   ]
  },
  {
   "cell_type": "code",
   "execution_count": 36,
   "metadata": {},
   "outputs": [],
   "source": [
    "def recalculate_metrics(ab_data_full, groups_add, active_studs, checks):\n",
    "\n",
    "    # --- Шаг 1: Объединение данных ---\n",
    "    # Отбираем новых пользователей из groups_add, которых ещё нет в ab_data_full\n",
    "    ids_to_add = groups_add.loc[~groups_add['id'].isin(ab_data_full['id'])].copy()\n",
    "    ids_to_add['student_id'] = ids_to_add['id']\n",
    "    ids_to_add['rev'] = 0  # У новых пользователей по умолчанию 0 выручка\n",
    "\n",
    "    # Объединяем старые и новые данные\n",
    "    ab_data_updated = pd.concat([ab_data_full, ids_to_add], ignore_index=True)\n",
    "\n",
    "    # --- Шаг 2: Добавляем флаги активности и оплат ---\n",
    "    ab_data_updated['is_payer'] = ab_data_updated['rev'] > 0\n",
    "    ab_data_updated['is_active'] = ab_data_updated['student_id'].isin(active_studs['student_id'])\n",
    "\n",
    "    # --- Шаг 3: Подсчёт основных метрик ---\n",
    "    metrics_df = ab_data_updated.groupby('grp').agg(\n",
    "        total_users=('student_id', 'count'),         # общее число пользователей\n",
    "        active_users=('is_active', 'sum'),           # активные пользователи\n",
    "        payers=('is_payer', 'sum'),                  # те, кто заплатил\n",
    "        total_revenue=('rev', 'sum')                 # суммарная выручка\n",
    "    ).reset_index()\n",
    "\n",
    "    # --- Шаг 4: Медиана выручки по активным платящим ---\n",
    "    active_payers = ab_data_updated[(ab_data_updated['is_active']) & (ab_data_updated['is_payer'])]\n",
    "    medians = active_payers.groupby('grp')['rev'].median().reset_index().rename(columns={'rev': 'median_revenue'})\n",
    "\n",
    "    # --- Шаг 5: Количество пользователей с чеками (участвовали в тесте) ---\n",
    "    checks_with_grp = checks.merge(\n",
    "    ab_data_updated[['student_id', 'grp']].drop_duplicates(),\n",
    "    on='student_id',\n",
    "    how='left'\n",
    "    )\n",
    "\n",
    "    checks_count = checks_with_grp.groupby('grp')['student_id'].nunique().reset_index().rename(columns={'student_id': 'test_participants'})\n",
    "    # --- Шаг 6: Финальный merge и расчёт остальных метрик ---\n",
    "    metrics_df = metrics_df.merge(medians, on='grp', how='left')\n",
    "    metrics_df = metrics_df.merge(checks_count, on='grp', how='left')\n",
    "\n",
    "    metrics_df['ARPU'] = metrics_df['total_revenue'] / metrics_df['total_users']\n",
    "    metrics_df['ARPPU'] = metrics_df['total_revenue'] / metrics_df['payers']\n",
    "    metrics_df['ARPPU'] = metrics_df['ARPPU'].fillna(0)\n",
    "    metrics_df['CR'] = metrics_df['payers'] / metrics_df['total_users']\n",
    "\n",
    "    return metrics_df[['grp', 'ARPU', 'ARPPU', 'CR', 'median_revenue', 'test_participants']]"
   ]
  },
  {
   "cell_type": "code",
   "execution_count": 37,
   "metadata": {},
   "outputs": [
    {
     "data": {
      "text/html": [
       "<div>\n",
       "<style scoped>\n",
       "    .dataframe tbody tr th:only-of-type {\n",
       "        vertical-align: middle;\n",
       "    }\n",
       "\n",
       "    .dataframe tbody tr th {\n",
       "        vertical-align: top;\n",
       "    }\n",
       "\n",
       "    .dataframe thead th {\n",
       "        text-align: right;\n",
       "    }\n",
       "</style>\n",
       "<table border=\"1\" class=\"dataframe\">\n",
       "  <thead>\n",
       "    <tr style=\"text-align: right;\">\n",
       "      <th></th>\n",
       "      <th>grp</th>\n",
       "      <th>ARPU</th>\n",
       "      <th>ARPPU</th>\n",
       "      <th>CR</th>\n",
       "      <th>median_revenue</th>\n",
       "      <th>test_participants</th>\n",
       "    </tr>\n",
       "  </thead>\n",
       "  <tbody>\n",
       "    <tr>\n",
       "      <th>0</th>\n",
       "      <td>A</td>\n",
       "      <td>46.769428</td>\n",
       "      <td>933.589744</td>\n",
       "      <td>0.050096</td>\n",
       "      <td>585.0</td>\n",
       "      <td>78</td>\n",
       "    </tr>\n",
       "    <tr>\n",
       "      <th>1</th>\n",
       "      <td>B</td>\n",
       "      <td>57.551217</td>\n",
       "      <td>1257.878992</td>\n",
       "      <td>0.045753</td>\n",
       "      <td>1140.0</td>\n",
       "      <td>314</td>\n",
       "    </tr>\n",
       "  </tbody>\n",
       "</table>\n",
       "</div>"
      ],
      "text/plain": [
       "  grp       ARPU        ARPPU        CR  median_revenue  test_participants\n",
       "0   A  46.769428   933.589744  0.050096           585.0                 78\n",
       "1   B  57.551217  1257.878992  0.045753          1140.0                314"
      ]
     },
     "metadata": {},
     "output_type": "display_data"
    }
   ],
   "source": [
    "result = recalculate_metrics(ab_data_full, groups_add, active_studs, checks)\n",
    "display(result)"
   ]
  },
  {
   "cell_type": "markdown",
   "metadata": {},
   "source": [
    "Напишем функцию, которая по датафрейму с метриками будет строить графики.\n",
    "\n",
    "⸻\n",
    "\n",
    "Что будем строить:\\\n",
    " • ARPU\\\n",
    " • ARPPU\\\n",
    " • CR\\\n",
    " • CR_active\\\n",
    " \n",
    "⸻\n",
    "\n",
    "Стратегия:\\\n",
    " • Используем seaborn или matplotlib\\\n",
    " • Для каждой метрики делаем отдельный barplot\\\n",
    " • Сделаем всё по группам A и B, с подписями и сеткой\\"
   ]
  },
  {
   "cell_type": "code",
   "execution_count": 38,
   "metadata": {},
   "outputs": [],
   "source": [
    "# называем функцию\n",
    "def plot_ab_metrics(metrics_data):\n",
    "    # устанавливаем стиль графиков — белая сетка, как в твоём примере\n",
    "    sns.set(style=\"whitegrid\")\n",
    "    # метрики, которые будем визуализировать\n",
    "    metrics = ['ARPU', 'ARPPU', 'CR', 'median_revenue', 'test_participants']\n",
    "    # читаемые названия для заголовков графиков\n",
    "    titles = {\n",
    "        'ARPU': 'Average Revenue Per User (ARPU)',\n",
    "        'ARPPU': 'Average Revenue Per Paying User (ARPPU)',\n",
    "        'CR': 'Conversion Rate (CR)',\n",
    "        'median_revenue': 'Median Revenue (active payers)',\n",
    "        'test_participants': 'Test Participants Count'\n",
    "    }\n",
    "    \n",
    "    # палитра: A — светло-синий, B — светло-серый\n",
    "    palette = {'A': '#D3D3D3', 'B': '#87CEFA'}\n",
    "    # создаём одну фигуру с 1 строкой и 5 колонками, размер по ширине большой, высота 5\n",
    "    fig, axes = plt.subplots(1, len(metrics), figsize=(20, 5))\n",
    "    \n",
    "    # проходим по каждой метрике и создаём отдельный график в соответствующей оси\n",
    "    for i, metric in enumerate(metrics):\n",
    "        ax = axes[i]\n",
    "        # строим столбики по группам с заданными цветами из палитры: по оси X — группы, по оси Y — метрика \n",
    "        sns.barplot(x='grp', y=metric, data=metrics_data, ax=ax, palette=palette)\n",
    "        \n",
    "        # Добавляем заголовок и подписи осей\n",
    "        ax.set_title(titles[metric])\n",
    "        ax.set_xlabel('Group')\n",
    "        ax.set_ylabel(metric)\n",
    "        # подписываем значения над столбиками (красиво и информативно)\n",
    "        for p in ax.patches:\n",
    "            height = p.get_height()\n",
    "            ax.text(p.get_x() + p.get_width() / 2., height, f'{height:.2f}',\n",
    "                    ha=\"center\", va=\"bottom\", fontsize=9)\n",
    "    \n",
    "    plt.tight_layout()\n",
    "    plt.show()"
   ]
  },
  {
   "cell_type": "code",
   "execution_count": 39,
   "metadata": {},
   "outputs": [
    {
     "data": {
      "image/png": "[encoded data removed]",
      "text/plain": [
       "<Figure size 1440x360 with 5 Axes>"
      ]
     },
     "metadata": {},
     "output_type": "display_data"
    }
   ],
   "source": [
    "# вызываем функцию\n",
    "metrics_data = recalculate_metrics(ab_data_full, groups_add, active_studs, checks)\n",
    "plot_ab_metrics(metrics_data)"
   ]
  },
  {
   "cell_type": "code",
   "execution_count": null,
   "metadata": {},
   "outputs": [],
   "source": []
  }
 ],
 "metadata": {
  "kernelspec": {
   "display_name": "Python 3",
   "language": "python",
   "name": "python3"
  },
  "language_info": {
   "codemirror_mode": {
    "name": "ipython",
    "version": 3
   },
   "file_extension": ".py",
   "mimetype": "text/x-python",
   "name": "python",
   "nbconvert_exporter": "python",
   "pygments_lexer": "ipython3",
   "version": "3.7.3"
  }
 },
 "nbformat": 4,
 "nbformat_minor": 4
}
